{
 "cells": [
  {
   "cell_type": "code",
   "execution_count": null,
   "id": "c35ccfa4",
   "metadata": {
    "deletable": false,
    "editable": false
   },
   "outputs": [],
   "source": [
    "# Initialize Otter\n",
    "import otter\n",
    "grader = otter.Notebook(\"Project.ipynb\")"
   ]
  },
  {
   "cell_type": "markdown",
   "id": "50a9d4ab",
   "metadata": {},
   "source": [
    "# Jupyter Notebook and Autograder Tutorial\n",
    "\n",
    "The goal of this project is to refresh your memory on how to use Jupiter notebooks, did you familiar with the auto greeting process will be using in the course, and to iron out any technical issues maybe having."
   ]
  },
  {
   "cell_type": "markdown",
   "id": "94e4028e",
   "metadata": {},
   "source": [
    "<!-- BEGIN QUESTION -->\n",
    "\n",
    "Write a function that returns an empty Pandas DataFrame"
   ]
  },
  {
   "cell_type": "code",
   "execution_count": null,
   "id": "57cf52c9",
   "metadata": {
    "tags": []
   },
   "outputs": [],
   "source": [
    "import pandas as pd\n",
    "def make_dataframe():\n",
    "    ..."
   ]
  },
  {
   "cell_type": "code",
   "execution_count": null,
   "id": "d4657db8",
   "metadata": {
    "deletable": false,
    "editable": false
   },
   "outputs": [],
   "source": [
    "grader.check(\"q1\")"
   ]
  },
  {
   "cell_type": "markdown",
   "id": "aa1ccad6",
   "metadata": {},
   "source": [
    "<!-- END QUESTION -->\n",
    "\n",
    "<!-- BEGIN QUESTION -->\n",
    "\n",
    "Write a function that uses Python's [`sqlite3` module](https://docs.python.org/3/library/sqlite3.html) to create a table called `college_mascots`. Your table must contain at least one field called `mascot_name` but can contain any other fields you would like. The function will receive an [`Connection`](https://docs.python.org/3/library/sqlite3.html#sqlite3.Connection) object as an argument; your table must be created using that object."
   ]
  },
  {
   "cell_type": "code",
   "execution_count": null,
   "id": "f4cbe605",
   "metadata": {
    "tags": []
   },
   "outputs": [],
   "source": [
    "import sqlite3\n",
    "def make_college_mascots_table(conn: sqlite3.Connection):\n",
    "    ..."
   ]
  },
  {
   "cell_type": "code",
   "execution_count": null,
   "id": "f011c543",
   "metadata": {
    "deletable": false,
    "editable": false
   },
   "outputs": [],
   "source": [
    "grader.check(\"q2\")"
   ]
  },
  {
   "cell_type": "markdown",
   "id": "12a86df8",
   "metadata": {},
   "source": [
    "<!-- END QUESTION -->\n",
    "\n",
    "<!-- BEGIN QUESTION -->\n",
    "\n",
    "We're going to connect to MongoDB next! But first, we need to start MongoDB\n",
    "\n",
    "### Starting MongoDB\n",
    "\n",
    "Open a terminal in Jupyter Lab by clicking the big \"plus\" button\n",
    "\n",
    "<img src=\"img/make-terminal-1.png\" alt=\"click blue button\" width=\"200\"/>\n",
    "\n",
    "then click the \"Terminal\" button to launch a terminal.\n",
    "\n",
    "<img src=\"img/make-terminal-2.png\" alt=\"click Terminal button\" width=\"200\"/>\n",
    "\n",
    "Finally, type `start-mongo` and hit Enter before returning to this notebook\n",
    "\n",
    "### Your Task\n",
    "\n",
    "Write a function which uses the `pymongo` Python client library for MongoDB to create a new *database* called `music_library` containing a new *collection* called `albums`. The function should return the `albums` collection.\n",
    "\n",
    "Refer to the [`pymongo` Documentation](https://pymongo.readthedocs.io/en/stable/index.html) when necessary"
   ]
  },
  {
   "cell_type": "code",
   "execution_count": null,
   "id": "3b936078",
   "metadata": {
    "tags": []
   },
   "outputs": [],
   "source": [
    "def make_album_collection():\n",
    "    import pymongo\n",
    "    client = pymongo.MongoClient()\n",
    "    ..."
   ]
  },
  {
   "cell_type": "code",
   "execution_count": null,
   "id": "1d356654",
   "metadata": {},
   "outputs": [],
   "source": []
  },
  {
   "cell_type": "code",
   "execution_count": null,
   "id": "ff25e99a",
   "metadata": {},
   "outputs": [],
   "source": []
  },
  {
   "cell_type": "markdown",
   "id": "54a0a49f",
   "metadata": {
    "deletable": false,
    "editable": false
   },
   "source": [
    "## Submission\n",
    "\n",
    "Make sure you have run all cells in your notebook in order before running the cell below, so that all images/graphs appear in the output. The cell below will generate a zip file for you to submit. **Please save before exporting!**\n",
    "\n",
    "These are some submission instructions."
   ]
  },
  {
   "cell_type": "code",
   "execution_count": null,
   "id": "f15a8189",
   "metadata": {
    "deletable": false,
    "editable": false
   },
   "outputs": [],
   "source": [
    "# Save your notebook first, then run this cell to export your submission.\n",
    "grader.export(run_tests=True)"
   ]
  },
  {
   "cell_type": "markdown",
   "id": "05ca2823",
   "metadata": {},
   "source": [
    " "
   ]
  }
 ],
 "metadata": {
  "kernelspec": {
   "display_name": "Python 3 (ipykernel)",
   "language": "python",
   "name": "python3"
  },
  "language_info": {
   "codemirror_mode": {
    "name": "ipython",
    "version": 3
   },
   "file_extension": ".py",
   "mimetype": "text/x-python",
   "name": "python",
   "nbconvert_exporter": "python",
   "pygments_lexer": "ipython3",
   "version": "3.9.12"
  },
  "otter": {
   "OK_FORMAT": true,
   "tests": {
    "q1": {
     "name": "q1",
     "points": null,
     "suites": [
      {
       "cases": [
        {
         "code": ">>> assert make_dataframe() is not None, \"Did not return anything\"\n>>> assert isinstance(make_dataframe(), pd.DataFrame), \"Did not return a DataFrame instance\"\n",
         "hidden": false,
         "locked": false
        }
       ],
       "scored": true,
       "setup": "",
       "teardown": "",
       "type": "doctest"
      }
     ]
    },
    "q2": {
     "name": "q2",
     "points": null,
     "suites": [
      {
       "cases": [
        {
         "code": ">>> conn = sqlite3.connect(':memory:') #  IGNORE\n>>> make_college_mascots_table(conn)\n>>> res = conn.execute(\"select 1 from sqlite_master where type='table' and name='college_mascots';\").fetchone()\n>>> assert res is not None and len(res) == 1, \"No table named 'college_mascots'\"\n>>> res = conn.execute(\"SELECT 1 FROM PRAGMA_TABLE_INFO('college_mascots') where name='mascot_name';\").fetchone()\n>>> assert res is not None and len(res) == 1, \"No field named 'mascot_name' in 'college_mascots' table\"\n",
         "hidden": false,
         "locked": false
        }
       ],
       "scored": true,
       "setup": "",
       "teardown": "",
       "type": "doctest"
      }
     ]
    },
    "q3": {
     "name": "q3",
     "points": null,
     "suites": [
      {
       "cases": [
        {
         "code": ">>> col = make_album_collection()\n>>> assert col.database.name == 'music_library'\n>>> assert col.name == 'albums'\n",
         "hidden": false,
         "locked": false
        }
       ],
       "scored": true,
       "setup": "",
       "teardown": "",
       "type": "doctest"
      }
     ]
    }
   }
  }
 },
 "nbformat": 4,
 "nbformat_minor": 5
}
